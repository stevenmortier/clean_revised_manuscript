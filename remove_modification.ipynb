{
 "cells": [
  {
   "cell_type": "code",
   "execution_count": 50,
   "metadata": {},
   "outputs": [],
   "source": [
    "# custom commands to be removed. include the first { here to ignore the \\newcommand definition\n",
    "commands = [\n",
    "    '\\\\modified{',\n",
    "    '\\\\secondrevision{'\n",
    "]"
   ]
  },
  {
   "cell_type": "code",
   "execution_count": 3,
   "metadata": {},
   "outputs": [],
   "source": [
    "filename = 'main.tex'"
   ]
  },
  {
   "cell_type": "code",
   "execution_count": 36,
   "metadata": {},
   "outputs": [],
   "source": [
    "# read file\n",
    "with open(filename, 'r') as file:\n",
    "    data = file.read()"
   ]
  },
  {
   "cell_type": "code",
   "execution_count": 52,
   "metadata": {},
   "outputs": [],
   "source": [
    "def find_matching_bracket(text):\n",
    "\n",
    "    # stack to keep track of brackets\n",
    "    stack = []\n",
    "\n",
    "    # iterate over the text\n",
    "    for i, c in enumerate(text):\n",
    "\n",
    "        # if opening bracket, add to stack\n",
    "        if c == '{':\n",
    "            stack.append(i)\n",
    "\n",
    "        # if closing bracket, pop from stack\n",
    "        elif c == '}':\n",
    "            stack.pop()\n",
    "\n",
    "        # if stack is empty, return index of closing bracket\n",
    "        if not stack:\n",
    "            return i\n",
    "\n",
    "    # if no matching bracket is found, return -1\n",
    "    return -1"
   ]
  },
  {
   "cell_type": "code",
   "execution_count": null,
   "metadata": {},
   "outputs": [],
   "source": [
    "# read file\n",
    "with open(filename, 'r') as file:\n",
    "    data = file.read()\n",
    "\n",
    "for command in commands:\n",
    "    while True:\n",
    "        start = data.find(command)\n",
    "        # if command is not found, continue\n",
    "        if start == -1:\n",
    "            break\n",
    "        # if command is found, remove it\n",
    "        end = start + len(command) - 1\n",
    "        data = data[:start] + data[end:]\n",
    "        # find matching bracket\n",
    "        matching_bracket_id = find_matching_bracket(data[start:])\n",
    "        # if no matching bracket is found, throw error\n",
    "        if matching_bracket_id == -1:\n",
    "            raise ValueError('No matching bracket found')\n",
    "        # remove matching bracket and initial bracket\n",
    "        data = data[:start] + data[start+1:start + matching_bracket_id] + data[start + matching_bracket_id + 1:]\n",
    "\n",
    "\n",
    "print(data)\n"
   ]
  }
 ],
 "metadata": {
  "kernelspec": {
   "display_name": "job_projects",
   "language": "python",
   "name": "python3"
  },
  "language_info": {
   "codemirror_mode": {
    "name": "ipython",
    "version": 3
   },
   "file_extension": ".py",
   "mimetype": "text/x-python",
   "name": "python",
   "nbconvert_exporter": "python",
   "pygments_lexer": "ipython3",
   "version": "3.11.7"
  }
 },
 "nbformat": 4,
 "nbformat_minor": 2
}
